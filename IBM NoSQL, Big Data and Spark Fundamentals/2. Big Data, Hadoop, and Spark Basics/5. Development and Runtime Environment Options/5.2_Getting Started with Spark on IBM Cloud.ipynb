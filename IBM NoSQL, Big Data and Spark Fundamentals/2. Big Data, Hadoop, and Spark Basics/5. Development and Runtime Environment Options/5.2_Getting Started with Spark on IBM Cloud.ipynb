{
 "cells": [
  {
   "cell_type": "markdown",
   "id": "72d5b793-e957-47dc-b712-cb4f811fa1c7",
   "metadata": {},
   "source": [
    "<p style=\"text-align:center\">\n",
    "    <a href=\"https://skills.network/?utm_medium=Exinfluencer&utm_source=Exinfluencer&utm_content=000026UJ&utm_term=10006555&utm_id=NA-SkillsNetwork-Channel-SkillsNetworkCoursesIBMBD0225ENSkillsNetwork876-2022-01-01\" target=\"_blank\">\n",
    "    <img src=\"https://cf-courses-data.s3.us.cloud-object-storage.appdomain.cloud/IBM-BD0225EN-SkillsNetwork/images/IDSN-logo.png\" width=\"200\" alt=\"Skills Network Logo\"  />\n",
    "    </a>\n",
    "</p>\n"
   ]
  },
  {
   "cell_type": "markdown",
   "id": "829f3a37-dc91-4660-ac9e-2f6556e48e19",
   "metadata": {},
   "source": [
    "# **Getting Started with Apache Spark on IBM Cloud**\n"
   ]
  },
  {
   "cell_type": "markdown",
   "id": "9a98713f-86cc-444c-bf87-3d102c869487",
   "metadata": {},
   "source": [
    "Estimated time needed: **15** minutes\n"
   ]
  },
  {
   "cell_type": "markdown",
   "id": "30e41a3a-5153-4a49-a7c2-790ea317cbea",
   "metadata": {},
   "source": [
    "![](http://spark.apache.org/images/spark-logo.png)\n"
   ]
  },
  {
   "cell_type": "markdown",
   "id": "bb9e0482-2ccb-4ce7-9735-56e2969a2a14",
   "metadata": {},
   "source": [
    "## Objectives\n"
   ]
  },
  {
   "cell_type": "markdown",
   "id": "8922d55d-9d69-4613-b0f5-e712b02384c0",
   "metadata": {},
   "source": [
    "In this lab, we will cover some data partioning strategies and methods in Apache Spark and PySpark. We will start with creating the SparkContext and SparkSession. We then create an RDD and apply data partioning. Finally we demonstrate data partioning with dataframes and SparkSQL.\n",
    "\n",
    "After this lab you will be able to:\n",
    "\n",
    "* Create the SparkContext and SparkSession\n",
    "* Create an RDD and apply data partioning to it\n",
    "* Create a dataframe and apply data partioning to it\n"
   ]
  },
  {
   "cell_type": "markdown",
   "id": "f548dccf-3506-499f-bd90-86731b00dcf3",
   "metadata": {},
   "source": [
    "----\n"
   ]
  },
  {
   "cell_type": "markdown",
   "id": "564ed40b-a06c-40de-985c-205f9da1b43d",
   "metadata": {},
   "source": [
    "## Setup\n"
   ]
  },
  {
   "cell_type": "markdown",
   "id": "7503ffea-2e66-488e-9c2a-8927bba5d54c",
   "metadata": {},
   "source": [
    "For this lab, we are going to be using Python and Spark (PySpark). These libraries should be installed in your lab environment or in SN Labs.\n"
   ]
  },
  {
   "cell_type": "code",
   "execution_count": 1,
   "id": "0e4ac35d-2ac3-4bcf-a268-49f07c4aca76",
   "metadata": {},
   "outputs": [],
   "source": [
    "# PySpark is the Spark API for Python. In this lab, we use PySpark to initialize the spark context. \n",
    "from pyspark import SparkContext, SparkConf\n",
    "from pyspark.sql import SparkSession"
   ]
  },
  {
   "cell_type": "markdown",
   "id": "4084e619-7122-4bdf-bdcb-8c99d893175d",
   "metadata": {},
   "source": [
    "## Exercise 1 -  Spark Context and Spark Session\n"
   ]
  },
  {
   "cell_type": "markdown",
   "id": "f999605f-0a3f-43ff-b07f-6682a3684578",
   "metadata": {},
   "source": [
    "In this exercise, you will create the Spark Context and initialize the Spark session needed for SparkSQL and DataFrames.\n",
    "SparkContext is the entry point for Spark applications and contains functions to create RDDs such as `parallelize()`. SparkSession is needed for SparkSQL and DataFrame operations.\n"
   ]
  },
  {
   "cell_type": "markdown",
   "id": "7913e878-7c79-468a-b8cc-baac03b5ebfb",
   "metadata": {},
   "source": [
    "#### Task 1: Creating the spark session and context\n"
   ]
  },
  {
   "cell_type": "code",
   "execution_count": 5,
   "id": "37518b19-4a05-41a0-9592-3c93240ec829",
   "metadata": {},
   "outputs": [],
   "source": [
    "# Creating a spark context class\n",
    "sc = SparkContext.getOrCreate()\n",
    "\n",
    "# Creating a spark session\n",
    "spark = SparkSession \\\n",
    "    .builder \\\n",
    "    .appName(\"Python Spark IBM Cloud Example\") \\\n",
    "    .config(\"spark.some.config.option\", \"some-value\") \\\n",
    "    .getOrCreate()"
   ]
  },
  {
   "cell_type": "markdown",
   "id": "742498a3-88b2-4b2b-87b3-98ab3bbbed5f",
   "metadata": {},
   "source": [
    "#### Task 2: Initialize Spark session\n",
    "To work with dataframes we just need to verify that the spark session instance has been created.\n",
    "Feel free to click on the \"Spark UI\" button to explore the Spark UI elements.\n"
   ]
  },
  {
   "cell_type": "code",
   "execution_count": 6,
   "id": "74e8d0e0-0393-4eaa-b959-52b522205520",
   "metadata": {},
   "outputs": [
    {
     "data": {
      "text/html": [
       "\n",
       "            <div>\n",
       "                <p><b>SparkSession - in-memory</b></p>\n",
       "                \n",
       "        <div>\n",
       "            <p><b>SparkContext</b></p>\n",
       "\n",
       "            <p><a href=\"http://172.30.248.141:4040\">Spark UI</a></p>\n",
       "\n",
       "            <dl>\n",
       "              <dt>Version</dt>\n",
       "                <dd><code>v3.3.1</code></dd>\n",
       "              <dt>Master</dt>\n",
       "                <dd><code>spark://jkg-deployment-fa703609-f082-4466-b141-4d8ad79193d1-76d4452sqlh:7077</code></dd>\n",
       "              <dt>AppName</dt>\n",
       "                <dd><code>python3.9</code></dd>\n",
       "            </dl>\n",
       "        </div>\n",
       "        \n",
       "            </div>\n",
       "        "
      ],
      "text/plain": [
       "<pyspark.sql.session.SparkSession at 0x7f5b718cea00>"
      ]
     },
     "execution_count": 6,
     "metadata": {},
     "output_type": "execute_result"
    }
   ],
   "source": [
    "spark"
   ]
  },
  {
   "cell_type": "markdown",
   "id": "bc0536c6-cd0c-4e4a-a19a-ef3f3c7b91b6",
   "metadata": {},
   "source": [
    "## Exercise 2: RDDs\n",
    "In this exercise we work with Resilient Distributed Datasets (RDDs). RDDs are Spark's primitive data abstraction and we use concepts from functional programming to create and manipulate RDDs. \n"
   ]
  },
  {
   "cell_type": "markdown",
   "id": "4a331372-1f87-4ce5-94c9-02989a3bb012",
   "metadata": {},
   "source": [
    "#### Task 1: Create an RDD.\n",
    "For demonstration purposes, we create an RDD here by calling `sc.parallelize()`  \n",
    "We create an RDD which has integers from 1 to 10.\n",
    "\n",
    "We then get the number of partitions using the `getNumPartitions()` function and the partitions using the `glom()` function.\n"
   ]
  },
  {
   "cell_type": "code",
   "execution_count": 7,
   "id": "aa046a21-1cc6-4a69-8272-28819c8b7490",
   "metadata": {},
   "outputs": [
    {
     "name": "stdout",
     "output_type": "stream",
     "text": [
      "Number of partitions: 2\n",
      "Partitioner: None\n",
      "Partitions structure: [[0, 1, 2, 3, 4], [5, 6, 7, 8, 9]]\n"
     ]
    }
   ],
   "source": [
    "nums = [i for i in range(10)]\n",
    "\n",
    "rdd = sc.parallelize(nums)\n",
    "    \n",
    "print(\"Number of partitions: {}\".format(rdd.getNumPartitions()))\n",
    "print(\"Partitioner: {}\".format(rdd.partitioner))\n",
    "print(\"Partitions structure: {}\".format(rdd.glom().collect()))"
   ]
  },
  {
   "cell_type": "markdown",
   "id": "3a786b2d-7469-408c-801e-67c8fff19876",
   "metadata": {},
   "source": [
    "In the above cell we can see the default partitions done for the RDD. However, we can change that by passing in an optional second argument to the `parallelize` function.\n",
    "Let us now try with 2 and 15 partitions and see how they look like in memory. \n"
   ]
  },
  {
   "cell_type": "code",
   "execution_count": 8,
   "id": "66c533ae-eab4-4284-90dd-3b4ade6f49f3",
   "metadata": {},
   "outputs": [
    {
     "name": "stdout",
     "output_type": "stream",
     "text": [
      "Default parallelism: 2\n",
      "Number of partitions: 2\n",
      "Partitioner: None\n",
      "Partitions structure: [[0, 1, 2, 3, 4], [5, 6, 7, 8, 9]]\n"
     ]
    }
   ],
   "source": [
    "rdd = sc.parallelize(nums, 2)\n",
    "    \n",
    "print(\"Default parallelism: {}\".format(sc.defaultParallelism))\n",
    "print(\"Number of partitions: {}\".format(rdd.getNumPartitions()))\n",
    "print(\"Partitioner: {}\".format(rdd.partitioner))\n",
    "print(\"Partitions structure: {}\".format(rdd.glom().collect()))"
   ]
  },
  {
   "cell_type": "code",
   "execution_count": 9,
   "id": "e30c0723-7b06-432e-a517-47ae40353dad",
   "metadata": {},
   "outputs": [
    {
     "data": {
      "text/plain": [
       "10"
      ]
     },
     "execution_count": 9,
     "metadata": {},
     "output_type": "execute_result"
    }
   ],
   "source": [
    "rdd.count()"
   ]
  },
  {
   "cell_type": "code",
   "execution_count": 10,
   "id": "a646a9b7-6c6b-488d-87dd-ca7bcf56e28b",
   "metadata": {},
   "outputs": [
    {
     "name": "stdout",
     "output_type": "stream",
     "text": [
      "Number of partitions: 15\n",
      "Partitioner: None\n",
      "Partitions structure: [[], [0], [1], [], [2], [3], [], [4], [5], [], [6], [7], [], [8], [9]]\n"
     ]
    }
   ],
   "source": [
    "rdd = sc.parallelize(nums, 15)\n",
    "\n",
    "print(\"Number of partitions: {}\".format(rdd.getNumPartitions()))\n",
    "print(\"Partitioner: {}\".format(rdd.partitioner))\n",
    "print(\"Partitions structure: {}\".format(rdd.glom().collect()))"
   ]
  },
  {
   "cell_type": "markdown",
   "id": "92970169-f8ce-4140-bbfe-c3af725e0730",
   "metadata": {},
   "source": [
    "Anoter way to partition data is by using the `partitionBy()` function. In this case, the dataset needs to be a tuple with a key/value pair as the default partioner uses a hash for the key to assign elements to a parition. \n"
   ]
  },
  {
   "cell_type": "code",
   "execution_count": 11,
   "id": "433649d6-4bb6-401e-aaaf-50e582f83ec4",
   "metadata": {},
   "outputs": [
    {
     "name": "stdout",
     "output_type": "stream",
     "text": [
      "Number of partitions: 2\n",
      "Partitioner: <pyspark.rdd.Partitioner object at 0x7f5b68226040>\n",
      "Partitions structure: [[(0, 0), (2, 2), (4, 4), (6, 6), (8, 8)], [(5, 5), (7, 7), (9, 9), (1, 1), (3, 3)]]\n",
      "partition: 1 [(0, 0), (2, 2), (4, 4), (6, 6), (8, 8)]\n",
      "partition: 2 [(5, 5), (7, 7), (9, 9), (1, 1), (3, 3)]\n"
     ]
    }
   ],
   "source": [
    "rdd = sc.parallelize(nums) \\\n",
    "        .map(lambda el: (el, el)) \\\n",
    "        .partitionBy(2) \\\n",
    "        .persist()\n",
    "    \n",
    "print(\"Number of partitions: {}\".format(rdd.getNumPartitions()))\n",
    "print(\"Partitioner: {}\".format(rdd.partitioner))\n",
    "print(\"Partitions structure: {}\".format(rdd.glom().collect()))\n",
    "\n",
    "j=0\n",
    "for i in rdd.glom().collect():\n",
    "    j+=1\n",
    "    print(\"partition: \" + str(j) + \" \"+ str(i))"
   ]
  },
  {
   "cell_type": "markdown",
   "id": "ff5d8c26-609c-442b-a749-26ba8d08212f",
   "metadata": {},
   "source": [
    "\n",
    "\n",
    "You can see that now the elements are distributed differently. A few interesting things happened:\n",
    "\n",
    "    parallelize(nums) - we are transforming Python array into RDD with no partitioning scheme,\n",
    "    map(lambda el: (el, el)) - transforming data into the form of a tuple,\n",
    "    partitionBy(2) - splitting data into 2 chunks using default hash partitioner\n",
    "\n",
    "Explicit assignment of partition locations makes the hashing strategy more apparent. The use of the % function assigns it to the correct partition.\n"
   ]
  },
  {
   "cell_type": "markdown",
   "id": "c5c4661c-1816-44c7-a90f-4155929e5ad9",
   "metadata": {},
   "source": [
    "Let us now create a more practical dataset of transactions. We have 8 transactions from 4 different geographies as shown below. \n"
   ]
  },
  {
   "cell_type": "code",
   "execution_count": 12,
   "id": "00f4d047-a75e-4b8a-9aa4-d1f2f582ed9f",
   "metadata": {},
   "outputs": [],
   "source": [
    "transactions = [\n",
    "    {'name': 'Bob', 'amount': 100, 'country': 'United Kingdom'},\n",
    "    {'name': 'James', 'amount': 15, 'country': 'United Kingdom'},\n",
    "    {'name': 'Marek', 'amount': 51, 'country': 'Poland'},\n",
    "    {'name': 'Johannes', 'amount': 200, 'country': 'Germany'},\n",
    "    {'name': 'Thomas', 'amount': 30, 'country': 'Germany'},\n",
    "    {'name': 'Paul', 'amount': 75, 'country': 'Poland'},\n",
    "    {'name': 'Pierre', 'amount': 120, 'country': 'France'},\n",
    "    {'name': 'Frank', 'amount': 180, 'country': 'France'}\n",
    "]"
   ]
  },
  {
   "cell_type": "markdown",
   "id": "ba6ed942-120f-4528-b329-ebd59e1ca629",
   "metadata": {},
   "source": [
    "We know that further analysis will be performed analyzing many similar records within the same country. To optimize network traffic it seems to be a good idea to put records from one country in one node. To meet this requirement, we will need a custom partitioner: Custom partitioner — function returning an integer for given object (tuple key).\n"
   ]
  },
  {
   "cell_type": "code",
   "execution_count": 13,
   "id": "24caedba-00bc-4795-be0c-3d155e7d7d88",
   "metadata": {},
   "outputs": [
    {
     "name": "stdout",
     "output_type": "stream",
     "text": [
      "55263\n",
      "4661127\n",
      "468565\n",
      "3709186\n"
     ]
    }
   ],
   "source": [
    "# Dummy implementation assuring that data for each country is in one partition\n",
    "def country_partitioner(country):\n",
    "    return hash(country)% (10**7+1)\n",
    "    #return portable_hash(country)\n",
    "    \n",
    "\n",
    "# Validate results\n",
    "print(country_partitioner(\"Poland\"))\n",
    "print(country_partitioner(\"Germany\"))\n",
    "print(country_partitioner(\"United Kingdom\"))\n",
    "print(country_partitioner(\"France\"))"
   ]
  },
  {
   "cell_type": "markdown",
   "id": "a2d3acc3-420f-478b-85e4-79767362e2c8",
   "metadata": {},
   "source": [
    "We can see that our custom partitioner creates a unique hash for each country name so it can be used to `partitionBy` our dataset. \n"
   ]
  },
  {
   "cell_type": "code",
   "execution_count": 14,
   "id": "3c9e2bd5-eb67-41a8-ab54-dcf15a9f9ebd",
   "metadata": {},
   "outputs": [
    {
     "name": "stdout",
     "output_type": "stream",
     "text": [
      "Number of partitions: 5\n",
      "Partitioner: <pyspark.rdd.Partitioner object at 0x7f5b681691f0>\n",
      "Partitions structure: [[('United Kingdom', {'name': 'Bob', 'amount': 100, 'country': 'United Kingdom'}), ('United Kingdom', {'name': 'James', 'amount': 15, 'country': 'United Kingdom'})], [('France', {'name': 'Pierre', 'amount': 120, 'country': 'France'}), ('France', {'name': 'Frank', 'amount': 180, 'country': 'France'})], [('Germany', {'name': 'Johannes', 'amount': 200, 'country': 'Germany'}), ('Germany', {'name': 'Thomas', 'amount': 30, 'country': 'Germany'})], [('Poland', {'name': 'Marek', 'amount': 51, 'country': 'Poland'}), ('Poland', {'name': 'Paul', 'amount': 75, 'country': 'Poland'})], []]\n",
      "\n",
      "--\n",
      "\n",
      "\n",
      "partition: 1\n",
      "[('United Kingdom', {'name': 'Bob', 'amount': 100, 'country': 'United Kingdom'}), ('United Kingdom', {'name': 'James', 'amount': 15, 'country': 'United Kingdom'})]\n",
      "\n",
      "partition: 2\n",
      "[('France', {'name': 'Pierre', 'amount': 120, 'country': 'France'}), ('France', {'name': 'Frank', 'amount': 180, 'country': 'France'})]\n",
      "\n",
      "partition: 3\n",
      "[('Germany', {'name': 'Johannes', 'amount': 200, 'country': 'Germany'}), ('Germany', {'name': 'Thomas', 'amount': 30, 'country': 'Germany'})]\n",
      "\n",
      "partition: 4\n",
      "[('Poland', {'name': 'Marek', 'amount': 51, 'country': 'Poland'}), ('Poland', {'name': 'Paul', 'amount': 75, 'country': 'Poland'})]\n",
      "\n",
      "partition: 5\n",
      "[]\n"
     ]
    }
   ],
   "source": [
    "rdd = sc.parallelize(transactions) \\\n",
    "        .map(lambda el: (el['country'], el)) \\\n",
    "        .partitionBy(5, country_partitioner)\n",
    "    \n",
    "print(\"Number of partitions: {}\".format(rdd.getNumPartitions()))\n",
    "print(\"Partitioner: {}\".format(rdd.partitioner))\n",
    "print(\"Partitions structure: {}\".format(rdd.glom().collect()))\n",
    "\n",
    "print(\"\\n--\\n\")\n",
    "for i, j in enumerate(rdd.glom().collect()):\n",
    "    print(\"\\npartition: \" + str(i+1) + \"\\n\"+ str(j))"
   ]
  },
  {
   "cell_type": "markdown",
   "id": "7d91b55e-0638-44d4-aa98-c2261fb09173",
   "metadata": {},
   "source": [
    "Using the partitioning scheme, we can now carry out calculations such as total revenue/sales as shown below. \n"
   ]
  },
  {
   "cell_type": "code",
   "execution_count": 15,
   "id": "eb2c7c4a-bac0-44b8-bbc7-651725fa93a4",
   "metadata": {},
   "outputs": [],
   "source": [
    "def sum_sales(iterator):\n",
    "    yield sum(transaction[1]['amount'] for transaction in iterator)"
   ]
  },
  {
   "cell_type": "code",
   "execution_count": 16,
   "id": "d393714f-f8ca-4357-906b-e2f3bc5e2507",
   "metadata": {},
   "outputs": [
    {
     "name": "stdout",
     "output_type": "stream",
     "text": [
      "Partitions structure: [[('United Kingdom', {'name': 'Bob', 'amount': 100, 'country': 'United Kingdom'}), ('United Kingdom', {'name': 'James', 'amount': 15, 'country': 'United Kingdom'})], [('France', {'name': 'Pierre', 'amount': 120, 'country': 'France'}), ('France', {'name': 'Frank', 'amount': 180, 'country': 'France'})], [('Germany', {'name': 'Johannes', 'amount': 200, 'country': 'Germany'}), ('Germany', {'name': 'Thomas', 'amount': 30, 'country': 'Germany'})], [('Poland', {'name': 'Marek', 'amount': 51, 'country': 'Poland'}), ('Poland', {'name': 'Paul', 'amount': 75, 'country': 'Poland'})], []]\n",
      "Total sales for each partition: [115, 300, 230, 126, 0]\n"
     ]
    }
   ],
   "source": [
    "by_country = sc.parallelize(transactions) \\\n",
    "        .map(lambda el: (el['country'], el)) \\\n",
    "        .partitionBy(5, country_partitioner)\n",
    "    \n",
    "print(\"Partitions structure: {}\".format(by_country.glom().collect()))\n",
    "\n",
    "# Sum sales in each partition\n",
    "sum_amounts = by_country \\\n",
    "    .mapPartitions(sum_sales) \\\n",
    "    .collect()\n",
    "\n",
    "print(\"Total sales for each partition: {}\".format(sum_amounts))"
   ]
  },
  {
   "cell_type": "markdown",
   "id": "9b9723ea-762d-4ae8-b671-c7f408354014",
   "metadata": {},
   "source": [
    "## Exercise 2: DataFrames\n",
    "In this exercise we work with DataFrames. \n"
   ]
  },
  {
   "cell_type": "markdown",
   "id": "8eff9586-bb09-4827-826e-018e95b962c9",
   "metadata": {},
   "source": [
    "#### Task 1: Create the DataFrame\n",
    "We will now create a DataFrame from the previous \"transactions\" list we created. \n"
   ]
  },
  {
   "cell_type": "code",
   "execution_count": 17,
   "id": "2a104713-7f18-45a7-abc9-e7d4252a23dd",
   "metadata": {},
   "outputs": [],
   "source": [
    "df = spark.createDataFrame(transactions)"
   ]
  },
  {
   "cell_type": "code",
   "execution_count": 18,
   "id": "f26d4fef-0096-4ba8-ace0-017f335db719",
   "metadata": {},
   "outputs": [
    {
     "name": "stdout",
     "output_type": "stream",
     "text": [
      "+------+--------------+--------+\n",
      "|amount|       country|    name|\n",
      "+------+--------------+--------+\n",
      "|   100|United Kingdom|     Bob|\n",
      "|    15|United Kingdom|   James|\n",
      "|    51|        Poland|   Marek|\n",
      "|   200|       Germany|Johannes|\n",
      "|    30|       Germany|  Thomas|\n",
      "|    75|        Poland|    Paul|\n",
      "|   120|        France|  Pierre|\n",
      "|   180|        France|   Frank|\n",
      "+------+--------------+--------+\n",
      "\n"
     ]
    }
   ],
   "source": [
    "df.show()"
   ]
  },
  {
   "cell_type": "code",
   "execution_count": 19,
   "id": "4339b4b3-d70f-4d84-a947-910f412b07c1",
   "metadata": {},
   "outputs": [
    {
     "name": "stdout",
     "output_type": "stream",
     "text": [
      "Number of partitions: 2\n",
      "Partitioner: <pyspark.rdd.Partitioner object at 0x7f5b681691f0>\n",
      "Partitions structure: [[Row(amount=100, country='United Kingdom', name='Bob'), Row(amount=15, country='United Kingdom', name='James'), Row(amount=51, country='Poland', name='Marek'), Row(amount=200, country='Germany', name='Johannes')], [Row(amount=30, country='Germany', name='Thomas'), Row(amount=75, country='Poland', name='Paul'), Row(amount=120, country='France', name='Pierre'), Row(amount=180, country='France', name='Frank')]]\n"
     ]
    }
   ],
   "source": [
    "print(\"Number of partitions: {}\".format(df.rdd.getNumPartitions()))\n",
    "print(\"Partitioner: {}\".format(rdd.partitioner))\n",
    "print(\"Partitions structure: {}\".format(df.rdd.glom().collect()))"
   ]
  },
  {
   "cell_type": "code",
   "execution_count": 20,
   "id": "f93ee531-04b3-438f-98e2-87ebba826996",
   "metadata": {},
   "outputs": [
    {
     "name": "stdout",
     "output_type": "stream",
     "text": [
      "partition: 1\n",
      "[Row(amount=100, country='United Kingdom', name='Bob'), Row(amount=15, country='United Kingdom', name='James'), Row(amount=51, country='Poland', name='Marek'), Row(amount=200, country='Germany', name='Johannes')]\n",
      "partition: 2\n",
      "[Row(amount=30, country='Germany', name='Thomas'), Row(amount=75, country='Poland', name='Paul'), Row(amount=120, country='France', name='Pierre'), Row(amount=180, country='France', name='Frank')]\n"
     ]
    }
   ],
   "source": [
    "for i, j in enumerate(df.rdd.glom().collect()):\n",
    "    print(\"partition: \" + str(i+1) + \"\\n\"+ str(j))"
   ]
  },
  {
   "cell_type": "markdown",
   "id": "616f92df-722c-4dd0-8389-68ac604cc4e4",
   "metadata": {},
   "source": [
    "For dataframes we can repartition the dataset by column using the `repartition()` function. The cell below shows how we can partition the dataset by country.\n"
   ]
  },
  {
   "cell_type": "code",
   "execution_count": 21,
   "id": "1ca923b7-f92d-4c22-bded-205bf93eff4d",
   "metadata": {},
   "outputs": [
    {
     "name": "stdout",
     "output_type": "stream",
     "text": [
      "\n",
      "After 'repartition()'\n",
      "Number of partitions: 10\n",
      "Partitioner: None\n",
      "Partitions structure: [[Row(amount=120, country='France', name='Pierre'), Row(amount=180, country='France', name='Frank')], [], [Row(amount=200, country='Germany', name='Johannes'), Row(amount=30, country='Germany', name='Thomas')], [], [Row(amount=75, country='Poland', name='Paul'), Row(amount=51, country='Poland', name='Marek')], [Row(amount=100, country='United Kingdom', name='Bob'), Row(amount=15, country='United Kingdom', name='James')], [], [], [], []]\n"
     ]
    }
   ],
   "source": [
    "# Repartition by column\n",
    "df2 = df.repartition(10,\"country\")\n",
    "\n",
    "print(\"\\nAfter 'repartition()'\")\n",
    "print(\"Number of partitions: {}\".format(df2.rdd.getNumPartitions()))\n",
    "print(\"Partitioner: {}\".format(df2.rdd.partitioner))\n",
    "print(\"Partitions structure: {}\".format(df2.rdd.glom().collect()))"
   ]
  },
  {
   "cell_type": "code",
   "execution_count": 22,
   "id": "e6eef473-4d2c-49d3-9f4d-478d30f80542",
   "metadata": {},
   "outputs": [
    {
     "name": "stdout",
     "output_type": "stream",
     "text": [
      "partition: 1\n",
      "[Row(amount=120, country='France', name='Pierre'), Row(amount=180, country='France', name='Frank')]\n",
      "partition: 2\n",
      "[]\n",
      "partition: 3\n",
      "[Row(amount=200, country='Germany', name='Johannes'), Row(amount=30, country='Germany', name='Thomas')]\n",
      "partition: 4\n",
      "[]\n",
      "partition: 5\n",
      "[Row(amount=75, country='Poland', name='Paul'), Row(amount=51, country='Poland', name='Marek')]\n",
      "partition: 6\n",
      "[Row(amount=100, country='United Kingdom', name='Bob'), Row(amount=15, country='United Kingdom', name='James')]\n",
      "partition: 7\n",
      "[]\n",
      "partition: 8\n",
      "[]\n",
      "partition: 9\n",
      "[]\n",
      "partition: 10\n",
      "[]\n"
     ]
    }
   ],
   "source": [
    "for i, j in enumerate(df2.rdd.glom().collect()):\n",
    "    print(\"partition: \" + str(i+1) + \"\\n\"+ str(j))"
   ]
  },
  {
   "cell_type": "markdown",
   "id": "871dec04-ee11-4cc8-a7a5-ba8c56193fa6",
   "metadata": {},
   "source": [
    "These are some of the partitioning strategies for dataframes and RDDs. As the data size increases, the paritioning strategies become more important and can yield significant performance benefits. \n"
   ]
  },
  {
   "cell_type": "markdown",
   "id": "d59ad39c-deaf-45bc-a0e8-7744c4e4af34",
   "metadata": {},
   "source": [
    "----\n"
   ]
  },
  {
   "cell_type": "markdown",
   "id": "f57b3877-2103-4796-850e-aafb8c97cbb7",
   "metadata": {},
   "source": [
    "## Authors\n"
   ]
  },
  {
   "cell_type": "markdown",
   "id": "dcbb5174-d3fe-4f9d-829f-e7d45764bf69",
   "metadata": {},
   "source": [
    "[Karthik Muthuraman](https://www.linkedin.com/in/karthik-muthuraman/?utm_medium=Exinfluencer&utm_source=Exinfluencer&utm_content=000026UJ&utm_term=10006555&utm_id=NA-SkillsNetwork-Channel-SkillsNetworkCoursesIBMBD0225ENSkillsNetwork876-2022-01-01)\n"
   ]
  },
  {
   "cell_type": "markdown",
   "id": "f7c1918c-c5f1-4a95-9ca8-7ac1e6e1d85d",
   "metadata": {},
   "source": [
    "### Other Contributors\n"
   ]
  },
  {
   "cell_type": "markdown",
   "id": "3ef13665-fa81-4fa0-81ba-8184d2cb0d35",
   "metadata": {},
   "source": [
    "[Jerome Nilmeier](https://github.com/nilmeier)\n"
   ]
  },
  {
   "cell_type": "markdown",
   "id": "468bedaa-221f-492d-a3ba-d783b8ab36bc",
   "metadata": {},
   "source": [
    "## Change Log\n"
   ]
  },
  {
   "cell_type": "markdown",
   "id": "56ae22fb-931f-439d-989f-9470f6e2b60e",
   "metadata": {},
   "source": [
    "|Date (YYYY-MM-DD)|Version|Changed By|Change Description|\n",
    "|-|-|-|-|\n",
    "|2021-07-02|0.2|Karthik|Beta launch|\n",
    "|2021-06-30|0.1|Karthik|First Draft|\n"
   ]
  },
  {
   "cell_type": "markdown",
   "id": "179b41ef-7d7b-48b4-b131-961c8f7ff843",
   "metadata": {},
   "source": [
    "Copyright © 2021 IBM Corporation. All rights reserved.\n"
   ]
  }
 ],
 "metadata": {
  "kernelspec": {
   "display_name": "Python 3.9 with Spark",
   "language": "python3",
   "name": "python39"
  },
  "language_info": {
   "codemirror_mode": {
    "name": "ipython",
    "version": 3
   },
   "file_extension": ".py",
   "mimetype": "text/x-python",
   "name": "python",
   "nbconvert_exporter": "python",
   "pygments_lexer": "ipython3",
   "version": "3.9.13"
  }
 },
 "nbformat": 4,
 "nbformat_minor": 4
}

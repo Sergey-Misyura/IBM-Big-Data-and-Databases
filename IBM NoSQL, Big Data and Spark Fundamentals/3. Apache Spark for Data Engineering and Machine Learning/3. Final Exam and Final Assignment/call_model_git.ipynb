{
 "cells": [
  {
   "cell_type": "code",
   "execution_count": 1,
   "id": "2159f0ac-407f-4147-904a-4b03bc71d241",
   "metadata": {},
   "outputs": [
    {
     "name": "stdout",
     "output_type": "stream",
     "text": [
      "Scoring response\n",
      "{'predictions': [{'fields': ['prediction', 'probability(Walk)', 'probability(Getup_bed)', 'probability(Drink_glass)', 'probability(Pour_water)', 'probability(Climb_stairs)', 'probability(Eat_meat)', 'probability(Brush_teeth)', 'probability(Standup_chair)', 'probability(Sitdown_chair)', 'probability(Comb_hair)', 'probability(Descend_stairs)', 'probability(Use_telephone)', 'probability(Liedown_bed)', 'probability(Eat_soup)'], 'values': [[0.0, 0.20704289585796204, 0.10253256457086429, 0.09586615926905061, 0.09285075590468575, 0.09032532971631967, 0.06989275583529544, 0.06699221107754223, 0.0567149557218531, 0.05611585631013442, 0.052588451812319865, 0.03441026628312849, 0.03411351698532767, 0.025639440736716108, 0.014914839918800257]]}]}\n"
     ]
    }
   ],
   "source": [
    "import requests\n",
    "\n",
    "# NOTE: you must manually set API_KEY below using information retrieved from your IBM Cloud account.\n",
    "API_KEY = \"\"\n",
    "token_response = requests.post('https://iam.cloud.ibm.com/identity/token', data={\"apikey\":\n",
    " API_KEY, \"grant_type\": 'urn:ibm:params:oauth:grant-type:apikey'})\n",
    "mltoken = token_response.json()[\"access_token\"]\n",
    "\n",
    "header = {'Content-Type': 'application/json', 'Authorization': 'Bearer ' + mltoken}\n",
    "\n",
    "# NOTE: manually define and pass the array(s) of values to be scored in the next line\n",
    "payload_scoring = {\"input_data\": [{\"fields\": [\"x\", \"y\", \"z\", ], \"values\": [[1,2,3]]}]}\n",
    "\n",
    "response_scoring = requests.post('https://eu-de.ml.cloud.ibm.com/ml/v4/deployments/564183dc-7b75-4525-a850-f62ad0c10643/predictions?version=2023-01-25', json=payload_scoring,\n",
    " headers={'Authorization': 'Bearer ' + mltoken})\n",
    "print(\"Scoring response\")\n",
    "print(response_scoring.json())"
   ]
  },
  {
   "cell_type": "code",
   "execution_count": 3,
   "id": "0d7d3ed0-214a-4913-bda5-370c6f0f8de3",
   "metadata": {},
   "outputs": [
    {
     "name": "stdout",
     "output_type": "stream",
     "text": [
      "Scoring response\n",
      "{'errors': [{'code': 'invalid_payload', 'message': 'An error occurred during scoring with message: Input Json has null values for one or more records'}], 'trace': '9dcd01402a8f4e3286e58ec9ab5c6414'}\n"
     ]
    }
   ],
   "source": [
    "payload_scoring = {\"input_data\": [{\"fields\": [], \"values\": [[]]}]}\n",
    "\n",
    "response_scoring = requests.post('https://eu-de.ml.cloud.ibm.com/ml/v4/deployments/564183dc-7b75-4525-a850-f62ad0c10643/predictions?version=2023-01-25', json=payload_scoring,\n",
    " headers={'Authorization': 'Bearer ' + mltoken})\n",
    "print(\"Scoring response\")\n",
    "print(response_scoring.json())"
   ]
  },
  {
   "cell_type": "code",
   "execution_count": null,
   "id": "348b29b9-e574-491a-aba5-1db36842b814",
   "metadata": {},
   "outputs": [],
   "source": []
  }
 ],
 "metadata": {
  "kernelspec": {
   "display_name": "Python",
   "language": "python",
   "name": "conda-env-python-py"
  },
  "language_info": {
   "codemirror_mode": {
    "name": "ipython",
    "version": 3
   },
   "file_extension": ".py",
   "mimetype": "text/x-python",
   "name": "python",
   "nbconvert_exporter": "python",
   "pygments_lexer": "ipython3",
   "version": "3.7.12"
  }
 },
 "nbformat": 4,
 "nbformat_minor": 5
}
